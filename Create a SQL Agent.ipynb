{
 "cells": [
  {
   "cell_type": "code",
   "execution_count": null,
   "metadata": {},
   "outputs": [],
   "source": [
    "import lamini\n",
    "lamini.api_key = \"600760e979617fe7849e9284d2bc223fe911a9875165737f0344f7dfbdd744ca\"\n",
    "\n",
    "llm = lamini.Lamini(\"meta-llama/Meta-Llama-3.1-8B-Instruct\")\n",
    "print(llm.generate(\"\"\"<|begin_of_text|><|start_header_id|>user<|end_header_id|>\n",
    "\n",
    "How are you?<|eot_id|>\n",
    "<|start_header_id|>assistant<|end_header_id|>\n",
    "\n",
    "\"\"\"))"
   ]
  }
 ],
 "metadata": {
  "language_info": {
   "name": "python"
  }
 },
 "nbformat": 4,
 "nbformat_minor": 2
}
